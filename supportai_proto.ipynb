{
 "cells": [
  {
   "cell_type": "code",
   "execution_count": 1,
   "metadata": {},
   "outputs": [],
   "source": [
    "import pyTigerGraph as tg\n",
    "\n",
    "conn = tg.TigerGraphConnection(\"http://34.134.83.57\", \"SupportAI\")"
   ]
  },
  {
   "cell_type": "code",
   "execution_count": 2,
   "metadata": {},
   "outputs": [
    {
     "name": "stdout",
     "output_type": "stream",
     "text": [
      "Using graph 'SupportAI'\n",
      "---- Graph SupportAI\n",
      "Vertex Types: \n",
      "  - VERTEX DocumentChunkEntrypoint(PRIMARY_ID id STRING, M_max UINT, M_max0 UINT, M UINT, m_l_normalize DOUBLE, date_added DATETIME) WITH STATS=\"OUTDEGREE_BY_EDGETYPE\", PRIMARY_ID_AS_ATTRIBUTE=\"true\"\n",
      "  - VERTEX EntityEntrypoint(PRIMARY_ID id STRING, M_max UINT, M_max0 UINT, M UINT, m_l_normalize DOUBLE, date_added DATETIME) WITH STATS=\"OUTDEGREE_BY_EDGETYPE\", PRIMARY_ID_AS_ATTRIBUTE=\"true\"\n",
      "  - VERTEX DocumentChunk(PRIMARY_ID id STRING, content STRING, embedding LIST<DOUBLE>, date_added DATETIME) WITH STATS=\"OUTDEGREE_BY_EDGETYPE\", PRIMARY_ID_AS_ATTRIBUTE=\"true\"\n",
      "  - VERTEX Document(PRIMARY_ID id STRING, embedding LIST<DOUBLE>, date_added DATETIME) WITH STATS=\"OUTDEGREE_BY_EDGETYPE\", PRIMARY_ID_AS_ATTRIBUTE=\"true\"\n",
      "  - VERTEX Concept(PRIMARY_ID id STRING, description STRING, embedding LIST<DOUBLE>, concept_type STRING, date_added DATETIME) WITH STATS=\"OUTDEGREE_BY_EDGETYPE\", PRIMARY_ID_AS_ATTRIBUTE=\"true\"\n",
      "  - VERTEX Entity(PRIMARY_ID id STRING, definition STRING, embedding LIST<DOUBLE>, date_added DATETIME) WITH STATS=\"OUTDEGREE_BY_EDGETYPE\", PRIMARY_ID_AS_ATTRIBUTE=\"true\"\n",
      "  - VERTEX Relationship(PRIMARY_ID id STRING, definition STRING, embedding LIST<DOUBLE>, short_name STRING, date_added DATETIME) WITH STATS=\"OUTDEGREE_BY_EDGETYPE\", PRIMARY_ID_AS_ATTRIBUTE=\"true\"\n",
      "  - VERTEX RelationshipEntrypoint(PRIMARY_ID id STRING, M_max UINT, M_max0 UINT, M UINT, m_l_normalize DOUBLE) WITH STATS=\"OUTDEGREE_BY_EDGETYPE\", PRIMARY_ID_AS_ATTRIBUTE=\"true\"\n",
      "  - VERTEX ConceptEntrypoint(PRIMARY_ID id STRING, M_max UINT, M_max0 UINT, M UINT, m_l_normalize DOUBLE) WITH STATS=\"OUTDEGREE_BY_EDGETYPE\", PRIMARY_ID_AS_ATTRIBUTE=\"true\"\n",
      "  - VERTEX DocumentCollection(PRIMARY_ID id STRING, date_added DATETIME) WITH STATS=\"OUTDEGREE_BY_EDGETYPE\", PRIMARY_ID_AS_ATTRIBUTE=\"true\"\n",
      "Edge Types: \n",
      "  - DIRECTED EDGE LINK_TO(FROM Concept, TO Concept|FROM Entity, TO Entity|FROM DocumentChunk, TO DocumentChunk|FROM Relationship, TO Relationship|FROM Document, TO Document, level_set SET<INT>) WITH REVERSE_EDGE=\"reverse_LINK_TO\"\n",
      "  - DIRECTED EDGE reverse_LINK_TO(FROM Concept, TO Concept|FROM Entity, TO Entity|FROM DocumentChunk, TO DocumentChunk|FROM Relationship, TO Relationship|FROM Document, TO Document, level_set SET<INT>) WITH REVERSE_EDGE=\"LINK_TO\"\n",
      "  - DIRECTED EDGE IS_CHILD_OF(FROM Concept, TO Concept) WITH REVERSE_EDGE=\"reverse_IS_CHILD_OF\"\n",
      "  - DIRECTED EDGE reverse_IS_CHILD_OF(FROM Concept, TO Concept) WITH REVERSE_EDGE=\"IS_CHILD_OF\"\n",
      "  - DIRECTED EDGE IS_HEAD_OF(FROM Entity, TO Relationship) WITH REVERSE_EDGE=\"reverse_IS_HEAD_OF\"\n",
      "  - DIRECTED EDGE reverse_IS_HEAD_OF(FROM Relationship, TO Entity) WITH REVERSE_EDGE=\"IS_HEAD_OF\"\n",
      "  - DIRECTED EDGE HAS_TAIL(FROM Relationship, TO Entity) WITH REVERSE_EDGE=\"reverse_HAS_TAIL\"\n",
      "  - DIRECTED EDGE reverse_HAS_TAIL(FROM Entity, TO Relationship) WITH REVERSE_EDGE=\"HAS_TAIL\"\n",
      "  - DIRECTED EDGE DESCRIBES_RELATIONSHIP(FROM Concept, TO Relationship) WITH REVERSE_EDGE=\"reverse_DESCRIBES_RELATIONSHIP\"\n",
      "  - DIRECTED EDGE reverse_DESCRIBES_RELATIONSHIP(FROM Relationship, TO Concept) WITH REVERSE_EDGE=\"DESCRIBES_RELATIONSHIP\"\n",
      "  - DIRECTED EDGE DESCRIBES_ENTITY(FROM Concept, TO Entity) WITH REVERSE_EDGE=\"reverse_DESCRIBES_ENTITY\"\n",
      "  - DIRECTED EDGE reverse_DESCRIBES_ENTITY(FROM Entity, TO Concept) WITH REVERSE_EDGE=\"DESCRIBES_ENTITY\"\n",
      "  - DIRECTED EDGE CONTAINS_ENTITY(FROM DocumentChunk, TO Entity) WITH REVERSE_EDGE=\"reverse_CONTAINS_ENTITY\"\n",
      "  - DIRECTED EDGE reverse_CONTAINS_ENTITY(FROM Entity, TO DocumentChunk) WITH REVERSE_EDGE=\"CONTAINS_ENTITY\"\n",
      "  - DIRECTED EDGE MENTIONS_RELATIONSHIP(FROM DocumentChunk, TO Relationship) WITH REVERSE_EDGE=\"reverse_MENTIONS_RELATIONSHIP\"\n",
      "  - DIRECTED EDGE reverse_MENTIONS_RELATIONSHIP(FROM Relationship, TO DocumentChunk) WITH REVERSE_EDGE=\"MENTIONS_RELATIONSHIP\"\n",
      "  - DIRECTED EDGE IS_AFTER(FROM DocumentChunk, TO DocumentChunk) WITH REVERSE_EDGE=\"reverse_IS_AFTER\"\n",
      "  - DIRECTED EDGE reverse_IS_AFTER(FROM DocumentChunk, TO DocumentChunk) WITH REVERSE_EDGE=\"IS_AFTER\"\n",
      "  - DIRECTED EDGE HAS_CHILD(FROM Document, TO DocumentChunk) WITH REVERSE_EDGE=\"reverse_HAS_CHILD\"\n",
      "  - DIRECTED EDGE reverse_HAS_CHILD(FROM DocumentChunk, TO Document) WITH REVERSE_EDGE=\"HAS_CHILD\"\n",
      "  - DIRECTED EDGE ENTRYPOINT_DOCUMENTCHUNK(FROM DocumentChunkEntrypoint, TO DocumentChunk) WITH REVERSE_EDGE=\"reverse_ENTRYPOINT_DOCUMENTCHUNK\"\n",
      "  - DIRECTED EDGE reverse_ENTRYPOINT_DOCUMENTCHUNK(FROM DocumentChunk, TO DocumentChunkEntrypoint) WITH REVERSE_EDGE=\"ENTRYPOINT_DOCUMENTCHUNK\"\n",
      "  - DIRECTED EDGE ENTRYPOINT_ENTITY(FROM EntityEntrypoint, TO Entity) WITH REVERSE_EDGE=\"reverse_ENTRYPOINT_ENTITY\"\n",
      "  - DIRECTED EDGE reverse_ENTRYPOINT_ENTITY(FROM Entity, TO EntityEntrypoint) WITH REVERSE_EDGE=\"ENTRYPOINT_ENTITY\"\n",
      "  - DIRECTED EDGE ENTRYPOINT_RELATIONSHIP(FROM RelationshipEntrypoint, TO Relationship) WITH REVERSE_EDGE=\"reverse_ENTRYPOINT_RELATIONSHIP\"\n",
      "  - DIRECTED EDGE reverse_ENTRYPOINT_RELATIONSHIP(FROM Relationship, TO RelationshipEntrypoint) WITH REVERSE_EDGE=\"ENTRYPOINT_RELATIONSHIP\"\n",
      "  - UNDIRECTED EDGE CONCEPT_SIMILAR_TO(FROM Concept, TO Concept, similarity_score DOUBLE)\n",
      "  - DIRECTED EDGE ENTRPOINT_CONCEPT(FROM ConceptEntrypoint, TO Concept) WITH REVERSE_EDGE=\"reverse_ENTRPOINT_CONCEPT\"\n",
      "  - DIRECTED EDGE reverse_ENTRPOINT_CONCEPT(FROM Concept, TO ConceptEntrypoint) WITH REVERSE_EDGE=\"ENTRPOINT_CONCEPT\"\n",
      "  - DIRECTED EDGE DOCUMENT_IN_COLLECTION(FROM DocumentCollection, TO Document) WITH REVERSE_EDGE=\"reverse_DOCUMENT_IN_COLLECTION\"\n",
      "  - DIRECTED EDGE reverse_DOCUMENT_IN_COLLECTION(FROM Document, TO DocumentCollection) WITH REVERSE_EDGE=\"DOCUMENT_IN_COLLECTION\"\n",
      "\n",
      "Graphs: \n",
      "  - Graph SupportAI(DocumentChunkEntrypoint:v, EntityEntrypoint:v, DocumentChunk:v, Document:v, Concept:v, Entity:v, Relationship:v, RelationshipEntrypoint:v, ConceptEntrypoint:v, DocumentCollection:v, LINK_TO:e, reverse_LINK_TO:e, IS_CHILD_OF:e, reverse_IS_CHILD_OF:e, IS_HEAD_OF:e, reverse_IS_HEAD_OF:e, HAS_TAIL:e, reverse_HAS_TAIL:e, DESCRIBES_RELATIONSHIP:e, reverse_DESCRIBES_RELATIONSHIP:e, DESCRIBES_ENTITY:e, reverse_DESCRIBES_ENTITY:e, CONTAINS_ENTITY:e, reverse_CONTAINS_ENTITY:e, MENTIONS_RELATIONSHIP:e, reverse_MENTIONS_RELATIONSHIP:e, IS_AFTER:e, reverse_IS_AFTER:e, HAS_CHILD:e, reverse_HAS_CHILD:e, ENTRYPOINT_DOCUMENTCHUNK:e, reverse_ENTRYPOINT_DOCUMENTCHUNK:e, ENTRYPOINT_ENTITY:e, reverse_ENTRYPOINT_ENTITY:e, ENTRYPOINT_RELATIONSHIP:e, reverse_ENTRYPOINT_RELATIONSHIP:e, CONCEPT_SIMILAR_TO:e, ENTRPOINT_CONCEPT:e, reverse_ENTRPOINT_CONCEPT:e, DOCUMENT_IN_COLLECTION:e, reverse_DOCUMENT_IN_COLLECTION:e)\n",
      "Jobs: \n",
      "  - CREATE SCHEMA_CHANGE JOB add_supportai_schema {\n",
      "      ADD VERTEX DocumentChunkEntrypoint(PRIMARY_ID id STRING, M_max UINT, M_max0 UINT, M UINT, m_l_normalize DOUBLE, date_added DATETIME) WITH STATS=\"OUTDEGREE_BY_EDGETYPE\", PRIMARY_ID_AS_ATTRIBUTE=\"true\";\n",
      "      ADD VERTEX EntityEntrypoint(PRIMARY_ID id STRING, M_max UINT, M_max0 UINT, M UINT, m_l_normalize DOUBLE, date_added DATETIME) WITH STATS=\"OUTDEGREE_BY_EDGETYPE\", PRIMARY_ID_AS_ATTRIBUTE=\"true\";\n",
      "      ADD VERTEX DocumentChunk(PRIMARY_ID id STRING, content STRING, embedding LIST<DOUBLE>, date_added DATETIME) WITH STATS=\"OUTDEGREE_BY_EDGETYPE\", PRIMARY_ID_AS_ATTRIBUTE=\"true\";\n",
      "      ADD VERTEX Document(PRIMARY_ID id STRING, embedding LIST<DOUBLE>, date_added DATETIME) WITH STATS=\"OUTDEGREE_BY_EDGETYPE\", PRIMARY_ID_AS_ATTRIBUTE=\"true\";\n",
      "      ADD VERTEX Concept(PRIMARY_ID id STRING, description STRING, embedding LIST<DOUBLE>, concept_type STRING, date_added DATETIME) WITH STATS=\"OUTDEGREE_BY_EDGETYPE\", PRIMARY_ID_AS_ATTRIBUTE=\"true\";\n",
      "      ADD VERTEX Entity(PRIMARY_ID id STRING, definition STRING, embedding LIST<DOUBLE>, date_added DATETIME) WITH STATS=\"OUTDEGREE_BY_EDGETYPE\", PRIMARY_ID_AS_ATTRIBUTE=\"true\";\n",
      "      ADD VERTEX Relationship(PRIMARY_ID id STRING, definition STRING, embedding LIST<DOUBLE>, short_name STRING, date_added DATETIME) WITH STATS=\"OUTDEGREE_BY_EDGETYPE\", PRIMARY_ID_AS_ATTRIBUTE=\"true\";\n",
      "      ADD VERTEX RelationshipEntrypoint(PRIMARY_ID id STRING, M_max UINT, M_max0 UINT, M UINT, m_l_normalize DOUBLE) WITH STATS=\"OUTDEGREE_BY_EDGETYPE\", PRIMARY_ID_AS_ATTRIBUTE=\"true\";\n",
      "      ADD VERTEX ConceptEntrypoint(PRIMARY_ID id STRING, M_max UINT, M_max0 UINT, M UINT, m_l_normalize DOUBLE) WITH STATS=\"OUTDEGREE_BY_EDGETYPE\", PRIMARY_ID_AS_ATTRIBUTE=\"true\";\n",
      "      ADD VERTEX DocumentCollection(PRIMARY_ID id STRING, date_added DATETIME) WITH STATS=\"OUTDEGREE_BY_EDGETYPE\", PRIMARY_ID_AS_ATTRIBUTE=\"true\";\n",
      "      ADD DIRECTED EDGE LINK_TO(FROM Concept, TO Concept|FROM Entity, TO Entity|FROM DocumentChunk, TO DocumentChunk|FROM Relationship, TO Relationship|FROM Document, TO Document, level_set SET<INT>) WITH REVERSE_EDGE=\"reverse_LINK_TO\";\n",
      "      ADD DIRECTED EDGE IS_CHILD_OF(FROM Concept, TO Concept) WITH REVERSE_EDGE=\"reverse_IS_CHILD_OF\";\n",
      "      ADD DIRECTED EDGE IS_HEAD_OF(FROM Entity, TO Relationship) WITH REVERSE_EDGE=\"reverse_IS_HEAD_OF\";\n",
      "      ADD DIRECTED EDGE HAS_TAIL(FROM Relationship, TO Entity) WITH REVERSE_EDGE=\"reverse_HAS_TAIL\";\n",
      "      ADD DIRECTED EDGE DESCRIBES_RELATIONSHIP(FROM Concept, TO Relationship) WITH REVERSE_EDGE=\"reverse_DESCRIBES_RELATIONSHIP\";\n",
      "      ADD DIRECTED EDGE DESCRIBES_ENTITY(FROM Concept, TO Entity) WITH REVERSE_EDGE=\"reverse_DESCRIBES_ENTITY\";\n",
      "      ADD DIRECTED EDGE CONTAINS_ENTITY(FROM DocumentChunk, TO Entity) WITH REVERSE_EDGE=\"reverse_CONTAINS_ENTITY\";\n",
      "      ADD DIRECTED EDGE MENTIONS_RELATIONSHIP(FROM DocumentChunk, TO Relationship) WITH REVERSE_EDGE=\"reverse_MENTIONS_RELATIONSHIP\";\n",
      "      ADD DIRECTED EDGE IS_AFTER(FROM DocumentChunk, TO DocumentChunk) WITH REVERSE_EDGE=\"reverse_IS_AFTER\";\n",
      "      ADD DIRECTED EDGE HAS_CHILD(FROM Document, TO DocumentChunk) WITH REVERSE_EDGE=\"reverse_HAS_CHILD\";\n",
      "      ADD DIRECTED EDGE ENTRYPOINT_DOCUMENTCHUNK(FROM DocumentChunkEntrypoint, TO DocumentChunk) WITH REVERSE_EDGE=\"reverse_ENTRYPOINT_DOCUMENTCHUNK\";\n",
      "      ADD DIRECTED EDGE ENTRYPOINT_ENTITY(FROM EntityEntrypoint, TO Entity) WITH REVERSE_EDGE=\"reverse_ENTRYPOINT_ENTITY\";\n",
      "      ADD DIRECTED EDGE ENTRYPOINT_RELATIONSHIP(FROM RelationshipEntrypoint, TO Relationship) WITH REVERSE_EDGE=\"reverse_ENTRYPOINT_RELATIONSHIP\";\n",
      "      ADD UNDIRECTED EDGE CONCEPT_SIMILAR_TO(FROM Concept, TO Concept, similarity_score DOUBLE);\n",
      "      ADD DIRECTED EDGE ENTRPOINT_CONCEPT(FROM ConceptEntrypoint, TO Concept) WITH REVERSE_EDGE=\"reverse_ENTRPOINT_CONCEPT\";\n",
      "      ADD DIRECTED EDGE DOCUMENT_IN_COLLECTION(FROM DocumentCollection, TO Document) WITH REVERSE_EDGE=\"reverse_DOCUMENT_IN_COLLECTION\";\n",
      "    }\n",
      "\n",
      "Queries: \n",
      "\n",
      "\n",
      "\n",
      "\n"
     ]
    }
   ],
   "source": [
    "print(conn.gsql(\"USE GRAPH SupportAI\\nLS\"))"
   ]
  },
  {
   "cell_type": "code",
   "execution_count": 3,
   "metadata": {},
   "outputs": [],
   "source": [
    "docs = \"../pytigergraph-docs/modules/\""
   ]
  },
  {
   "cell_type": "code",
   "execution_count": 4,
   "metadata": {},
   "outputs": [],
   "source": [
    "from langchain_community.document_loaders import TextLoader"
   ]
  },
  {
   "cell_type": "code",
   "execution_count": 5,
   "metadata": {},
   "outputs": [],
   "source": [
    "from langchain_community.document_loaders import DirectoryLoader\n",
    "loader = DirectoryLoader(docs, glob=\"**/*.adoc\", loader_cls=TextLoader)"
   ]
  },
  {
   "cell_type": "code",
   "execution_count": 6,
   "metadata": {},
   "outputs": [],
   "source": [
    "docs = loader.load()"
   ]
  },
  {
   "cell_type": "code",
   "execution_count": 7,
   "metadata": {},
   "outputs": [
    {
     "data": {
      "text/plain": [
       "48"
      ]
     },
     "execution_count": 7,
     "metadata": {},
     "output_type": "execute_result"
    }
   ],
   "source": [
    "len(docs)"
   ]
  },
  {
   "cell_type": "code",
   "execution_count": 8,
   "metadata": {},
   "outputs": [],
   "source": [
    "from langchain_community.graphs.graph_document import (\n",
    "    Node as BaseNode,\n",
    "    Relationship as BaseRelationship\n",
    ")\n",
    "from typing import List, Dict, Any, Optional\n",
    "from langchain_core.pydantic_v1 import Field, BaseModel\n",
    "\n",
    "#class Property(BaseModel):\n",
    "#  \"\"\"A single property consisting of key and value\"\"\"\n",
    "#  key: str = Field(..., description=\"key\")\n",
    "#  value: str = Field(..., description=\"value\")\n",
    "\n",
    "class Node(BaseNode):\n",
    "    #properties: Optional[List[Property]] = Field(\n",
    "    #    None, description=\"List of node properties\")\n",
    "    definition: str = Field(description=\"Definition of the node. Describe what the entity is.\")\n",
    "\n",
    "class Relationship(BaseRelationship):\n",
    "    #properties: Optional[List[Property]] = Field(\n",
    "    #    None, description=\"List of relationship properties\"\n",
    "    #)\n",
    "    definition: str = Field(description=\"Definition of the relationship. Describe what the entity is.\")"
   ]
  },
  {
   "cell_type": "code",
   "execution_count": 9,
   "metadata": {},
   "outputs": [],
   "source": [
    "class KnowledgeGraph(BaseModel):\n",
    "    \"\"\"Generate a knowledge graph with entities and relationships.\"\"\"\n",
    "    nodes: List[Node] = Field(\n",
    "        ..., description=\"List of nodes in the knowledge graph\")\n",
    "    rels: List[Relationship] = Field(\n",
    "        ..., description=\"List of relationships in the knowledge graph\"\n",
    "    )"
   ]
  },
  {
   "cell_type": "code",
   "execution_count": 10,
   "metadata": {},
   "outputs": [
    {
     "name": "stderr",
     "output_type": "stream",
     "text": [
      "/opt/anaconda3/envs/pytg_dev/lib/python3.9/site-packages/langchain_core/_api/deprecation.py:117: LangChainDeprecationWarning: The class `langchain_community.chat_models.openai.ChatOpenAI` was deprecated in langchain-community 0.0.10 and will be removed in 0.2.0. An updated version of the class exists in the langchain-openai package and should be used instead. To use it run `pip install -U langchain-openai` and import as `from langchain_openai import ChatOpenAI`.\n",
      "  warn_deprecated(\n"
     ]
    }
   ],
   "source": [
    "import os\n",
    "from langchain.chains import LLMChain\n",
    "from langchain.llms.base import LLM\n",
    "from langchain.chat_models import ChatOpenAI\n",
    "\n",
    "os.environ[\"OPENAI_API_KEY\"] = \"OPEN_AI_KEY\"\n",
    "llm = ChatOpenAI(model=\"gpt-4-0125-preview\", temperature=0)"
   ]
  },
  {
   "cell_type": "code",
   "execution_count": 11,
   "metadata": {},
   "outputs": [],
   "source": [
    "from langchain.prompts import ChatPromptTemplate"
   ]
  },
  {
   "cell_type": "code",
   "execution_count": 12,
   "metadata": {},
   "outputs": [],
   "source": [
    "from langchain.output_parsers import PydanticOutputParser\n",
    "\n",
    "parser = PydanticOutputParser(pydantic_object=KnowledgeGraph)"
   ]
  },
  {
   "cell_type": "code",
   "execution_count": 13,
   "metadata": {},
   "outputs": [],
   "source": [
    "\n",
    "prompt = ChatPromptTemplate.from_messages(\n",
    "    [(\n",
    "      \"system\",\n",
    "      f\"\"\"# Knowledge Graph Instructions for GPT-4\n",
    "## 1. Overview\n",
    "You are a top-tier algorithm designed for extracting information in structured formats to build a knowledge graph.\n",
    "- **Nodes** represent entities and concepts. They're akin to Wikipedia nodes.\n",
    "- The aim is to achieve simplicity and clarity in the knowledge graph, making it accessible for a vast audience.\n",
    "## 2. Labeling Nodes\n",
    "- **Consistency**: Ensure you use basic or elementary types for node labels.\n",
    "  - For example, when you identify an entity representing a person, always label it as **\"person\"**. Avoid using more specific terms like \"mathematician\" or \"scientist\".\n",
    "- **Node IDs**: Never utilize integers as node IDs. Node IDs should be names or human-readable identifiers found in the text.\n",
    "## 3. Handling Numerical Data and Dates\n",
    "- Numerical data, like age or other related information, should be incorporated as attributes or properties of the respective nodes.\n",
    "- **No Separate Nodes for Dates/Numbers**: Do not create separate nodes for dates or numerical values. Always attach them as attributes or properties of nodes.\n",
    "- **Property Format**: Properties must be in a key-value format. Only use properties for dates and numbers, string properties should be new nodes.\n",
    "- **Quotation Marks**: Never use escaped single or double quotes within property values.\n",
    "- **Naming Convention**: Use camelCase for property keys, e.g., `birthDate`.\n",
    "## 4. Coreference Resolution\n",
    "- **Maintain Entity Consistency**: When extracting entities, it's vital to ensure consistency.\n",
    "If an entity, such as \"John Doe\", is mentioned multiple times in the text but is referred to by different names or pronouns (e.g., \"Joe\", \"he\"), \n",
    "always use the most complete identifier for that entity throughout the knowledge graph. In this example, use \"John Doe\" as the entity ID.  \n",
    "Remember, the knowledge graph should be coherent and easily understandable, so maintaining consistency in entity references is crucial. \n",
    "## 5. Strict Compliance\n",
    "Adhere to the rules strictly. Non-compliance will result in termination, including poor formatting. \"\"\"),\n",
    "        (\"human\", \"Use the given format to extract information from the following input: {input}\"),\n",
    "        (\"human\", \"Mandatory: Make sure to answer in the correct format, specified here: {format_instructions}\"),\n",
    "    ])"
   ]
  },
  {
   "cell_type": "code",
   "execution_count": 14,
   "metadata": {},
   "outputs": [],
   "source": [
    "chain = prompt | llm #| parser"
   ]
  },
  {
   "cell_type": "code",
   "execution_count": 15,
   "metadata": {},
   "outputs": [],
   "source": [
    "import json\n",
    "\n",
    "def extract_kg_from_doc(doc, chain):\n",
    "    out = chain.invoke({\"input\": doc, \"format_instructions\": parser.get_format_instructions()})\n",
    "    try:\n",
    "        json_out = json.loads(out.content.strip(\"```\").strip(\"json\"))\n",
    "        return json_out\n",
    "    except:\n",
    "        print(\"Error Processing: \", out)\n",
    "    return {\"nodes\": [], \"rels\": []}\n"
   ]
  },
  {
   "cell_type": "code",
   "execution_count": 16,
   "metadata": {},
   "outputs": [
    {
     "name": "stdout",
     "output_type": "stream",
     "text": [
      "{'source': '../pytigergraph-docs/modules/gds/pages/gds.adoc'}\n",
      "{'source': '../pytigergraph-docs/modules/gds/pages/models.adoc'}\n",
      "{'source': '../pytigergraph-docs/modules/gds/pages/nodepiece_transforms.adoc'}\n",
      "{'source': '../pytigergraph-docs/modules/gds/pages/pyg_transforms.adoc'}\n",
      "{'source': '../pytigergraph-docs/modules/gds/pages/factory-functions.adoc'}\n",
      "[{'source': {'id': 'FactoryFunctions', 'type': 'concept'}, 'target': {'id': 'GDS', 'type': 'class'}, 'type': 'belongsTo', 'properties': {}, 'definition': 'Factory Functions are methods of the GDS class.'}, {'source': {'id': 'GDS', 'type': 'class'}, 'target': {'id': 'NeighborLoader', 'type': 'class'}, 'type': 'createsInstance', 'properties': {}, 'definition': 'GDS class can create an instance of NeighborLoader.'}, {'source': {'id': 'GDS', 'type': 'class'}, 'target': {'id': 'EdgeLoader', 'type': 'class'}, 'type': 'createsInstance', 'properties': {}, 'definition': 'GDS class can create an instance of EdgeLoader.'}, {'source': {'id': 'GDS', 'type': 'class'}, 'target': {'id': 'VertexLoader', 'type': 'class'}, 'type': 'createsInstance', 'properties': {}, 'definition': 'GDS class can create an instance of VertexLoader.'}, {'source': {'id': 'GDS', 'type': 'class'}, 'target': {'id': 'GraphLoader', 'type': 'class'}, 'type': 'createsInstance', 'properties': {}, 'definition': 'GDS class can create an instance of GraphLoader.'}, {'source': {'id': 'GDS', 'type': 'class'}, 'target': {'id': 'Featurizer', 'type': 'class'}, 'type': 'createsInstance', 'properties': {}, 'definition': 'GDS class can create an instance of Featurizer.'}, {'source': {'id': 'GDS', 'type': 'class'}, 'target': {'id': 'VertexSplitter', 'type': 'class'}, 'type': 'createsInstance', 'properties': {}, 'definition': 'GDS class can create an instance of VertexSplitter.'}, {'source': {'id': 'GDS', 'type': 'class'}, 'target': {'id': 'EdgeSplitter', 'type': 'class'}, 'type': 'createsInstance', 'properties': {}, 'definition': 'GDS class can create an instance of EdgeSplitter.'}]\n",
      "{'source': '../pytigergraph-docs/modules/gds/pages/featurizer.adoc'}\n",
      "{'source': '../pytigergraph-docs/modules/gds/pages/trainer.adoc'}\n",
      "{'source': '../pytigergraph-docs/modules/gds/pages/transforms.adoc'}\n",
      "{'source': '../pytigergraph-docs/modules/gds/pages/splitters.adoc'}\n",
      "[{'source': {'id': 'RandomVertexSplitter', 'definition': 'A class function for splitting vertices in a graph database.'}, 'target': {'id': 'TigerGraphConnection', 'definition': 'A connection instance to TigerGraph database.'}, 'type': 'uses', 'definition': 'RandomVertexSplitter uses TigerGraphConnection to connect to the database.'}, {'source': {'id': 'RandomEdgeSplitter', 'definition': 'A class function for splitting edges in a graph database.'}, 'target': {'id': 'TigerGraphConnection', 'definition': 'A connection instance to TigerGraph database.'}, 'type': 'uses', 'definition': 'RandomEdgeSplitter uses TigerGraphConnection to connect to the database.'}]\n",
      "{'source': '../pytigergraph-docs/modules/gds/pages/dataloaders.adoc'}\n",
      "[{'source': {'id': 'pyTigerGraph GDS module', 'type': 'module'}, 'target': {'id': 'NeighborLoader', 'type': 'class'}, 'type': 'contains', 'properties': {}, 'definition': 'The module contains the NeighborLoader class.'}, {'source': {'id': 'pyTigerGraph GDS module', 'type': 'module'}, 'target': {'id': 'EdgeLoader', 'type': 'class'}, 'type': 'contains', 'properties': {}, 'definition': 'The module contains the EdgeLoader class.'}, {'source': {'id': 'pyTigerGraph GDS module', 'type': 'module'}, 'target': {'id': 'VertexLoader', 'type': 'class'}, 'type': 'contains', 'properties': {}, 'definition': 'The module contains the VertexLoader class.'}, {'source': {'id': 'pyTigerGraph GDS module', 'type': 'module'}, 'target': {'id': 'GraphLoader', 'type': 'class'}, 'type': 'contains', 'properties': {}, 'definition': 'The module contains the GraphLoader class.'}, {'source': {'id': 'pyTigerGraph GDS module', 'type': 'module'}, 'target': {'id': 'EdgeNeighborLoader', 'type': 'class'}, 'type': 'contains', 'properties': {}, 'definition': 'The module contains the EdgeNeighborLoader class.'}, {'source': {'id': 'pyTigerGraph GDS module', 'type': 'module'}, 'target': {'id': 'NodePieceLoader', 'type': 'class'}, 'type': 'contains', 'properties': {}, 'definition': 'The module contains the NodePieceLoader class.'}, {'source': {'id': 'pyTigerGraph GDS module', 'type': 'module'}, 'target': {'id': 'HGTLoader', 'type': 'class'}, 'type': 'contains', 'properties': {}, 'definition': 'The module contains the HGTLoader class.'}]\n",
      "{'source': '../pytigergraph-docs/modules/gds/pages/index.adoc'}\n",
      "{'source': '../pytigergraph-docs/modules/gds/pages/nodepiece.adoc'}\n",
      "{'source': '../pytigergraph-docs/modules/core-functions/nav.adoc'}\n",
      "{'source': '../pytigergraph-docs/modules/core-functions/pages/path.adoc'}\n",
      "[{'source': {'id': 'TigerGraphConnection', 'type': 'object'}, 'target': {'id': 'shortestPath', 'type': 'function'}, 'type': 'hasFunction', 'properties': {}, 'definition': 'Indicates that the TigerGraphConnection object can execute the shortestPath function.'}, {'source': {'id': 'TigerGraphConnection', 'type': 'object'}, 'target': {'id': 'allPaths', 'type': 'function'}, 'type': 'hasFunction', 'properties': {}, 'definition': 'Indicates that the TigerGraphConnection object can execute the allPaths function.'}]\n",
      "{'source': '../pytigergraph-docs/modules/core-functions/pages/edge.adoc'}\n",
      "{'source': '../pytigergraph-docs/modules/core-functions/pages/udt.adoc'}\n",
      "{'source': '../pytigergraph-docs/modules/core-functions/pages/loading.adoc'}\n",
      "{'source': '../pytigergraph-docs/modules/core-functions/pages/query.adoc'}\n",
      "{'source': '../pytigergraph-docs/modules/core-functions/pages/utils.adoc'}\n",
      "{'source': '../pytigergraph-docs/modules/core-functions/pages/vertex.adoc'}\n",
      "{'source': '../pytigergraph-docs/modules/core-functions/pages/schema.adoc'}\n",
      "{'source': '../pytigergraph-docs/modules/core-functions/pages/auth.adoc'}\n",
      "{'source': '../pytigergraph-docs/modules/core-functions/pages/base.adoc'}\n",
      "{'source': '../pytigergraph-docs/modules/core-functions/pages/gsql.adoc'}\n",
      "{'source': '../pytigergraph-docs/modules/core-functions/pages/index.adoc'}\n",
      "{'source': '../pytigergraph-docs/modules/object_oriented_schema/nav.adoc'}\n",
      "Error Processing:  content='The input provided does not contain any explicit information or context that can be directly translated into a knowledge graph format as per the schema provided. The input \"* xref:schema-def.adoc[Object Oriented Schema]\" appears to be a reference or a link, possibly from a document or a markup language, pointing towards a definition or documentation related to \"Object Oriented Schema\". Without additional context or content related to this reference, it\\'s not feasible to generate a knowledge graph with entities and relationships.\\n\\nTo create a knowledge graph, detailed information about entities (such as people, places, concepts, etc.) and the relationships between them is required. This information should be in a format that allows for the extraction of entities as nodes and the connections between these entities as relationships.\\n\\nIf you have more detailed information or a different request that can be translated into a knowledge graph, please provide that for further assistance.'\n",
      "{'source': '../pytigergraph-docs/modules/object_oriented_schema/pages/schema-def.adoc'}\n"
     ]
    }
   ],
   "source": [
    "for doc in docs[21:]:\n",
    "    print(doc.metadata)\n",
    "    nodes_rels = extract_kg_from_doc(doc.page_content, chain)\n",
    "\n",
    "    if nodes_rels[\"nodes\"] != []:\n",
    "        try:\n",
    "            conn.upsertVertices(\"Entity\", [(x[\"id\"], {\"definition\": x[\"definition\"]}) for x in nodes_rels[\"nodes\"]])\n",
    "        except:\n",
    "            print(nodes_rels[\"nodes\"])\n",
    "    \n",
    "    if nodes_rels[\"rels\"] != []:\n",
    "        try:\n",
    "            conn.upsertVertices(\"Relationship\", [(x[\"source\"]+\":\"+x[\"type\"]+\":\"+x[\"target\"], {\"definition\": x[\"definition\"], \"short_name\": x[\"type\"]}) for x in nodes_rels[\"rels\"]])\n",
    "            conn.upsertEdges(\"Entity\", \"IS_HEAD_OF\", \"Relationship\", [(x[\"source\"], x[\"source\"]+\":\"+x[\"type\"]+\":\"+x[\"target\"], {}) for x in nodes_rels[\"rels\"]])\n",
    "            conn.upsertEdges(\"Relationship\", \"HAS_TAIL\", \"Entity\", [(x[\"source\"]+\":\"+x[\"type\"]+\":\"+x[\"target\"], x[\"target\"], {}) for x in nodes_rels[\"rels\"]])\n",
    "        except:\n",
    "            print(nodes_rels[\"rels\"])"
   ]
  },
  {
   "cell_type": "code",
   "execution_count": null,
   "metadata": {},
   "outputs": [],
   "source": []
  }
 ],
 "metadata": {
  "kernelspec": {
   "display_name": "Python 3.9.16 ('pytg_dev')",
   "language": "python",
   "name": "python3"
  },
  "language_info": {
   "codemirror_mode": {
    "name": "ipython",
    "version": 3
   },
   "file_extension": ".py",
   "mimetype": "text/x-python",
   "name": "python",
   "nbconvert_exporter": "python",
   "pygments_lexer": "ipython3",
   "version": "3.9.16"
  },
  "orig_nbformat": 4,
  "vscode": {
   "interpreter": {
    "hash": "1c3872f25492526ae0a7ed66aa11b82cc2d33aacfd3b6e5e18da7e09a4c57038"
   }
  }
 },
 "nbformat": 4,
 "nbformat_minor": 2
}
